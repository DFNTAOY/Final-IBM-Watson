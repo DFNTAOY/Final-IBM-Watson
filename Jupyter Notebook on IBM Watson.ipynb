{
    "cells": [
        {
            "metadata": {
                "collapsed": true
            },
            "cell_type": "markdown",
            "source": "# My Jupyter Notebook on IBM Watson Studio"
        },
        {
            "metadata": {},
            "cell_type": "markdown",
            "source": "**Taofeek Abiodun Olaunkanmi YUSUF**\n\n>I desire to be a Data Scientist"
        },
        {
            "metadata": {},
            "cell_type": "markdown",
            "source": "_I am interested in data science because in this Information age in which we found ourselves, there's literally nothing we need to do that do not involve data or some data/information underlining. And in addition to this,it has been proven times without number that whoever has the INFORMATION has the POWER, which means, Data rules the World, and the Data Scientist are the Orchestrator behind it. I want to be a Data Scientist in order to have a platform where I can contribute My quota to a BETTER WORLD. Thank YOU._"
        },
        {
            "metadata": {},
            "cell_type": "markdown",
            "source": "### I intend to write a simple program that tells a USER to input his/her name and then be greeted with a WELCOME message to the World of Data Science with IBM Watson"
        },
        {
            "metadata": {},
            "cell_type": "code",
            "source": "\"\"\"This program is to Welcome a new user to the Data Science World with IBM Watson\"\"\"\n\ndef welcome():\n    \"\"\"defining a welcome function with no parameter\"\"\"\n    \n    new_user = input(\"Welcome, kindly specify your name, please: \")\n    \"\"\"Taking user's input, in this case, the user's name\"\"\"\n    \n    return \"{}, you are profoundly welcome to the World of Data Science with IBM through the use of the awesome IBM Watson Studio\".format(new_user)\n    \"returning a Warmth Welcome greeting to the New User\"\n\n\"\"\"Putting the welcome function to ACTION!!!\"\"\"\nwelcome()",
            "execution_count": 6,
            "outputs": [
                {
                    "output_type": "stream",
                    "name": "stdout",
                    "text": "Welcome, kindly specify your name, please: AbdulRahman\n"
                },
                {
                    "output_type": "execute_result",
                    "execution_count": 6,
                    "data": {
                        "text/plain": "'AbdulRahman, you are profoundly welcome to the World of Data Science with IBM through the use of the awesome IBM Watson Studio'"
                    },
                    "metadata": {}
                }
            ]
        },
        {
            "metadata": {},
            "cell_type": "markdown",
            "source": "\n~~~STRIKE THROUGH UP HERE~~~\n\n```python\ns = \"Python SYNTAX HIGHLIGHTING\"\nprint s\n```\n\n>BLOCKQUOTE HERE\n\n\n| **IBM** | _AMAZON_ | GOOGLE |\n|---------|----------|--------|\n| BLUE    | ORANGE   | GREEN  |\n| DO      | `IT`     | WELL   |\n\n[To kindly get started and practice your skill through sound training with IBM Watson at IBM, `CLICK =====|> IBM`][1]\n\n[1]: https://www.ibm.com/demo"
        },
        {
            "metadata": {},
            "cell_type": "code",
            "source": "",
            "execution_count": null,
            "outputs": []
        }
    ],
    "metadata": {
        "kernelspec": {
            "name": "python3",
            "display_name": "Python 3.6",
            "language": "python"
        },
        "language_info": {
            "name": "python",
            "version": "3.6.9",
            "mimetype": "text/x-python",
            "codemirror_mode": {
                "name": "ipython",
                "version": 3
            },
            "pygments_lexer": "ipython3",
            "nbconvert_exporter": "python",
            "file_extension": ".py"
        }
    },
    "nbformat": 4,
    "nbformat_minor": 1
}